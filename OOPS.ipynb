{
  "nbformat": 4,
  "nbformat_minor": 0,
  "metadata": {
    "colab": {
      "name": "OOPS.ipynb",
      "provenance": [],
      "authorship_tag": "ABX9TyPRQNuQjtOzuAxwKqJ5Jda7",
      "include_colab_link": true
    },
    "kernelspec": {
      "name": "python3",
      "display_name": "Python 3"
    }
  },
  "cells": [
    {
      "cell_type": "markdown",
      "metadata": {
        "id": "view-in-github",
        "colab_type": "text"
      },
      "source": [
        "<a href=\"https://colab.research.google.com/github/Siva-SMSK/colab/blob/main/OOPS.ipynb\" target=\"_parent\"><img src=\"https://colab.research.google.com/assets/colab-badge.svg\" alt=\"Open In Colab\"/></a>"
      ]
    },
    {
      "cell_type": "markdown",
      "metadata": {
        "id": "TavLnLSckXB9"
      },
      "source": [
        "###Main"
      ]
    },
    {
      "cell_type": "code",
      "metadata": {
        "colab": {
          "base_uri": "https://localhost:8080/"
        },
        "id": "ofJNDhc0i4a6",
        "outputId": "ceb76b92-4f48-4489-e29f-a1ae2c164ad6"
      },
      "source": [
        "print(\"Hello World\")"
      ],
      "execution_count": null,
      "outputs": [
        {
          "output_type": "stream",
          "text": [
            "Hello World\n"
          ],
          "name": "stdout"
        }
      ]
    },
    {
      "cell_type": "code",
      "metadata": {
        "colab": {
          "base_uri": "https://localhost:8080/",
          "height": 35
        },
        "id": "VtDKeJljkiS0",
        "outputId": "8209327b-b020-473f-9f1a-cdd606fd5d1d"
      },
      "source": [
        "import numpy as np\n",
        "np.__version__"
      ],
      "execution_count": null,
      "outputs": [
        {
          "output_type": "execute_result",
          "data": {
            "application/vnd.google.colaboratory.intrinsic+json": {
              "type": "string"
            },
            "text/plain": [
              "'1.19.5'"
            ]
          },
          "metadata": {
            "tags": []
          },
          "execution_count": 1
        }
      ]
    },
    {
      "cell_type": "code",
      "metadata": {
        "id": "qkzspXwRks_F"
      },
      "source": [
        "np.random.rand?"
      ],
      "execution_count": null,
      "outputs": []
    },
    {
      "cell_type": "code",
      "metadata": {
        "colab": {
          "base_uri": "https://localhost:8080/",
          "height": 35
        },
        "id": "gztaB5hHt8ki",
        "outputId": "6273c232-9efd-467e-aa72-ac4cac7a1410"
      },
      "source": [
        "import sys\n",
        "sys.version\n",
        "sys.version.split()[0]"
      ],
      "execution_count": null,
      "outputs": [
        {
          "output_type": "execute_result",
          "data": {
            "application/vnd.google.colaboratory.intrinsic+json": {
              "type": "string"
            },
            "text/plain": [
              "'3.7.10'"
            ]
          },
          "metadata": {
            "tags": []
          },
          "execution_count": 9
        }
      ]
    },
    {
      "cell_type": "code",
      "metadata": {
        "id": "cRbdj0T_uq4e"
      },
      "source": [
        "import datetime\n",
        "for home in sorted(datetime.__dict__):\n",
        "  print(home)"
      ],
      "execution_count": null,
      "outputs": []
    },
    {
      "cell_type": "code",
      "metadata": {
        "id": "FtPedWpbOFOB"
      },
      "source": [
        "class rectangle:\n",
        "  pass\n",
        "  "
      ],
      "execution_count": null,
      "outputs": []
    },
    {
      "cell_type": "code",
      "metadata": {
        "id": "qoYrTsxdOJ7f"
      },
      "source": [
        "issubclass(rectangle,object)"
      ],
      "execution_count": null,
      "outputs": []
    },
    {
      "cell_type": "code",
      "metadata": {
        "id": "Z-x0Rh_bAK_c"
      },
      "source": [
        "pip install pyautogui"
      ],
      "execution_count": null,
      "outputs": []
    },
    {
      "cell_type": "code",
      "metadata": {
        "id": "sAYCVYsPOJHz"
      },
      "source": [
        "import os \n",
        "\n",
        "os.makedirs(\"./dir1\")"
      ],
      "execution_count": null,
      "outputs": []
    },
    {
      "cell_type": "code",
      "metadata": {
        "colab": {
          "base_uri": "https://localhost:8080/",
          "height": 35
        },
        "id": "vZ7kgrb4OdRc",
        "outputId": "4319e39a-f537-4d88-9bf5-44d56a505a45"
      },
      "source": [
        "os.getcwd()"
      ],
      "execution_count": null,
      "outputs": [
        {
          "output_type": "execute_result",
          "data": {
            "application/vnd.google.colaboratory.intrinsic+json": {
              "type": "string"
            },
            "text/plain": [
              "'/content'"
            ]
          },
          "metadata": {
            "tags": []
          },
          "execution_count": 5
        }
      ]
    },
    {
      "cell_type": "code",
      "metadata": {
        "colab": {
          "base_uri": "https://localhost:8080/"
        },
        "id": "UsPHCw36vzZ6",
        "outputId": "a11d4835-ce79-41a0-e20b-bcc4d0d82ca3"
      },
      "source": [
        "class test:\n",
        "  def int():\n",
        "    print('test')\n",
        "\n",
        "a = test\n",
        "a.int()\n"
      ],
      "execution_count": null,
      "outputs": [
        {
          "output_type": "stream",
          "text": [
            "test\n"
          ],
          "name": "stdout"
        }
      ]
    },
    {
      "cell_type": "code",
      "metadata": {
        "id": "GEjbWrSsgTZu"
      },
      "source": [
        "x =12\n",
        "if x % 5 == 0 :\n",
        "  print (\"X is divisible by 5\")\n",
        "if x % 6 == 0:\n",
        "  print (\"X is divisible by 6\")\n",
        "if x % 7 == 0:\n",
        "  print (\"x is divisible by 7\")"
      ],
      "execution_count": null,
      "outputs": []
    },
    {
      "cell_type": "code",
      "metadata": {
        "colab": {
          "base_uri": "https://localhost:8080/"
        },
        "id": "JsV0Eo_QhGGI",
        "outputId": "bf51002a-5440-440c-f23d-7b5b6b6cf74b"
      },
      "source": [
        "num = 120\n",
        "x = []\n",
        "for y in range(1,11):\n",
        "  if num % y == 0 :\n",
        "    x.append(y)\n",
        "\n",
        "print(x)"
      ],
      "execution_count": null,
      "outputs": [
        {
          "output_type": "stream",
          "text": [
            "[1, 2, 3, 4, 5, 6, 8, 10]\n"
          ],
          "name": "stdout"
        }
      ]
    },
    {
      "cell_type": "code",
      "metadata": {
        "colab": {
          "base_uri": "https://localhost:8080/"
        },
        "id": "1qtFtODdvW-9",
        "outputId": "dfdc326c-d9c1-49f7-cc9a-b5f0662d6c03"
      },
      "source": [
        "num = 120\n",
        "x = [ele for ele in range(1,11) if num % ele == 0]\n",
        "print (x)"
      ],
      "execution_count": null,
      "outputs": [
        {
          "output_type": "stream",
          "text": [
            "[1, 2, 3, 4, 5, 6, 8, 10]\n"
          ],
          "name": "stdout"
        }
      ]
    },
    {
      "cell_type": "code",
      "metadata": {
        "id": "iBNts5XjlCOS"
      },
      "source": [
        "s = \"Hello Siva\"\n",
        "for x,y  in enumerate(s):\n",
        "  print(x)"
      ],
      "execution_count": null,
      "outputs": []
    },
    {
      "cell_type": "code",
      "metadata": {
        "colab": {
          "base_uri": "https://localhost:8080/"
        },
        "id": "0RIjYUpxnwsS",
        "outputId": "4808044c-070b-4121-a808-d3d6b9f29a76"
      },
      "source": [
        "import random\n",
        "value = random.randint(0,100)\n",
        "guess = int(input( \"Enter the number between 0 to 100 : \"))\n",
        "\n",
        "try :\n",
        "  if guess == value:\n",
        "    print (\"You are correct \")\n",
        "  elif guess > value:\n",
        "    print (\"value is greater than correct answer \"+ str(value))\n",
        "  elif guess < value:\n",
        "    print( \"Value is lesser than correct value \"+ str(value) )\n",
        "\n",
        "except ValueError:\n",
        "  print( \"Enter a valid number\")\n"
      ],
      "execution_count": null,
      "outputs": [
        {
          "output_type": "stream",
          "text": [
            "Enter the number between 0 to 100 : 25\n",
            "Value is lesser than correct value 61\n"
          ],
          "name": "stdout"
        }
      ]
    },
    {
      "cell_type": "code",
      "metadata": {
        "colab": {
          "base_uri": "https://localhost:8080/"
        },
        "id": "HXrA5aGu-YDN",
        "outputId": "d0063ea4-bf1a-4b65-e7e0-19c1adc89c14"
      },
      "source": [
        "s = [1,2,3,4,5,3,7]\n",
        "\n",
        "def func(lis):\n",
        "  x = [ele for ele in lis if ele % 2 == 0]\n",
        "  if len(x) == 0 :\n",
        "    return False\n",
        "  else:\n",
        "    return x[0]\n",
        "\n",
        "xx = func(s)\n",
        "print (xx)"
      ],
      "execution_count": null,
      "outputs": [
        {
          "output_type": "stream",
          "text": [
            "2\n"
          ],
          "name": "stdout"
        }
      ]
    },
    {
      "cell_type": "code",
      "metadata": {
        "colab": {
          "base_uri": "https://localhost:8080/"
        },
        "id": "vvWNSnIvCDmw",
        "outputId": "57dadefb-06a9-4eed-a36a-02a27e3674fb"
      },
      "source": [
        "s = [1,3,5,4,2,5]\n",
        "\n",
        "\n",
        "def max(s):\n",
        "  big = 0\n",
        "  for item,ele in enumerate(s):\n",
        "    if ele >= s[big] :\n",
        "      big = item\n",
        "  return big , s[big]\n",
        "\n",
        "\n",
        "max(s)\n",
        "\n",
        "  "
      ],
      "execution_count": null,
      "outputs": [
        {
          "output_type": "execute_result",
          "data": {
            "text/plain": [
              "(5, 5)"
            ]
          },
          "metadata": {
            "tags": []
          },
          "execution_count": 12
        }
      ]
    },
    {
      "cell_type": "code",
      "metadata": {
        "colab": {
          "base_uri": "https://localhost:8080/"
        },
        "id": "-RsZMA6_8u0C",
        "outputId": "74c90bfd-a31e-4322-90fb-59c0f317afd0"
      },
      "source": [
        "prices = {'MacBook 13': 1300, 'MacBook 15': 2100, 'ASUS ROG': 1600}\n",
        "\n",
        "prices['MacBook 15']"
      ],
      "execution_count": null,
      "outputs": [
        {
          "output_type": "execute_result",
          "data": {
            "text/plain": [
              "2100"
            ]
          },
          "metadata": {
            "tags": []
          },
          "execution_count": 2
        }
      ]
    },
    {
      "cell_type": "code",
      "metadata": {
        "colab": {
          "base_uri": "https://localhost:8080/"
        },
        "id": "bkh3PRPhNTNZ",
        "outputId": "86185426-d1a1-49a1-ea69-de71ba69184d"
      },
      "source": [
        "cart={}\n",
        "cart['MacBook 15'] = 1\n",
        "cart['MacBook 15'] += 1\n",
        "cart\n"
      ],
      "execution_count": null,
      "outputs": [
        {
          "output_type": "execute_result",
          "data": {
            "text/plain": [
              "{'MacBook 15': 2}"
            ]
          },
          "metadata": {
            "tags": []
          },
          "execution_count": 5
        }
      ]
    },
    {
      "cell_type": "code",
      "metadata": {
        "colab": {
          "base_uri": "https://localhost:8080/"
        },
        "id": "pirW1M7qljF5",
        "outputId": "16a1ff43-f494-4cbe-84df-da6801e089c8"
      },
      "source": [
        "s = [1,3,5,4,2,5]\n",
        "def find_sum(my_list):\n",
        "  print (my_list)\n",
        "  if len(my_list) == 1:\n",
        "    return my_list[0]\n",
        "  return find_sum(my_list[: -1]) \n",
        "\n",
        "find_sum(s)"
      ],
      "execution_count": null,
      "outputs": [
        {
          "output_type": "stream",
          "text": [
            "[1, 3, 5, 4, 2, 5]\n",
            "[1, 3, 5, 4, 2]\n",
            "[1, 3, 5, 4]\n",
            "[1, 3, 5]\n",
            "[1, 3]\n",
            "[1]\n"
          ],
          "name": "stdout"
        },
        {
          "output_type": "execute_result",
          "data": {
            "text/plain": [
              "1"
            ]
          },
          "metadata": {
            "tags": []
          },
          "execution_count": 10
        }
      ]
    },
    {
      "cell_type": "code",
      "metadata": {
        "id": "r11FOaMrqJdJ"
      },
      "source": [
        "def solve(n):\n",
        "  print(n)\n",
        "  if n == 1:\n",
        "    return 1\n",
        "  return 2 * solve(n - 1) + 1\n",
        "\n",
        "  solve(6)"
      ],
      "execution_count": null,
      "outputs": []
    },
    {
      "cell_type": "code",
      "metadata": {
        "id": "BjS5x7NPsQSI"
      },
      "source": [
        "N=3"
      ],
      "execution_count": 7,
      "outputs": []
    },
    {
      "cell_type": "code",
      "metadata": {
        "id": "5dR2mketsRbH"
      },
      "source": [
        "# Print out the board in a nice format.\n",
        "def display_solution(board):\n",
        "  for i in range(N):\n",
        "    for j in range(N):\n",
        "      print(board[i][j], end=' ')\n",
        "    print()"
      ],
      "execution_count": 2,
      "outputs": []
    },
    {
      "cell_type": "code",
      "metadata": {
        "id": "NazW5DnrtUQA"
      },
      "source": [
        "# Generate a valid solution.\n",
        "def generate_solution():\n",
        "    # Check if a queen can be placed in the position.\n",
        "    def check_next(board, row, col):\n",
        "        # Check the current column.\n",
        "        \n",
        "        for i in range(row):\n",
        "            if board[i][col] == 1:\n",
        "                return False\n",
        "\n",
        "        # Check the upper-left diagonal.\n",
        "        for i, j in zip(range(row, -1, -1), range(col, -1, -1)):\n",
        "            if board[i][j] == 1:\n",
        "                return False\n",
        "\n",
        "        # Check the upper-right diagonal.\n",
        "        for i, j in zip(range(row, -1, -1), range(col, N)):\n",
        "            if board[i][j] == 1:\n",
        "                return False\n",
        "\n",
        "        return True\n",
        "\n",
        "    # Recursively generate a solution.\n",
        "    def recur_generate_solution(board, row_id):\n",
        "        # Return if we have reached the last row.\n",
        "        if row_id >= N:\n",
        "            return True\n",
        "\n",
        "        # Iteratively try out cells in the current row.\n",
        "        for i in range(N):\n",
        "            if check_next(board, row_id, i):\n",
        "                board[row_id][i] = 1  # try to place a queen at the current cell\n",
        "\n",
        "                # Return if a valid solution is found.\n",
        "                final_board = recur_generate_solution(board, row_id + 1)\n",
        "                if final_board:\n",
        "                    return True\n",
        "\n",
        "                board[row_id][i] = 0  # take the queen out of the current cell\n",
        "\n",
        "        # When the current board has no valid solutions.\n",
        "        return False\n",
        "\n",
        "    # Start out with en empty board.\n",
        "    my_board = [[0 for _ in range(N)] for __ in range(N)]\n",
        "    final_solution = recur_generate_solution(my_board, 0)\n",
        "\n",
        "    # Display the final solution.\n",
        "    if final_solution is False:\n",
        "        print('A solution cannot be found.')\n",
        "    else:\n",
        "        print('A solution was found.')\n",
        "        display_solution(my_board)"
      ],
      "execution_count": 21,
      "outputs": []
    },
    {
      "cell_type": "code",
      "metadata": {
        "colab": {
          "base_uri": "https://localhost:8080/"
        },
        "id": "XLAZe2wutYoe",
        "outputId": "40049bde-8beb-47c0-feb2-3bbca73cc06d"
      },
      "source": [
        "N=4\n",
        "generate_solution()"
      ],
      "execution_count": 22,
      "outputs": [
        {
          "output_type": "stream",
          "text": [
            "A solution was found.\n",
            "0 1 0 0 \n",
            "0 0 0 1 \n",
            "1 0 0 0 \n",
            "0 0 1 0 \n"
          ],
          "name": "stdout"
        }
      ]
    },
    {
      "cell_type": "code",
      "metadata": {
        "colab": {
          "base_uri": "https://localhost:8080/"
        },
        "id": "Drpych2cwYHC",
        "outputId": "ead23e60-c473-429f-de93-c3487545040f"
      },
      "source": [
        "hom = [x for x in range(4,-1,-1)]\n",
        "\n",
        "print(hom)"
      ],
      "execution_count": null,
      "outputs": [
        {
          "output_type": "stream",
          "text": [
            "[4, 3, 2, 1, 0]\n"
          ],
          "name": "stdout"
        }
      ]
    },
    {
      "cell_type": "code",
      "metadata": {
        "colab": {
          "base_uri": "https://localhost:8080/"
        },
        "id": "ShjohkSMxcEu",
        "outputId": "bc1b6c48-d74e-4557-da60-a8d1953f79f7"
      },
      "source": [
        "for i, j in zip(range(4, -1, -1), \\\n",
        "range(4, 9)):\n",
        "  print(i,j)\n",
        "\n"
      ],
      "execution_count": null,
      "outputs": [
        {
          "output_type": "stream",
          "text": [
            "4 4\n",
            "3 5\n",
            "2 6\n",
            "1 7\n",
            "0 8\n"
          ],
          "name": "stdout"
        }
      ]
    },
    {
      "cell_type": "code",
      "metadata": {
        "colab": {
          "base_uri": "https://localhost:8080/"
        },
        "id": "maoI2yG7_06e",
        "outputId": "5362516c-16ce-4669-b12a-ea7bfd825130"
      },
      "source": [
        "my_board = [[0 for _ in range(N)] for __ in range(N)]\n",
        "my_board"
      ],
      "execution_count": 31,
      "outputs": [
        {
          "output_type": "execute_result",
          "data": {
            "text/plain": [
              "[[0, 0, 0, 0], [0, 0, 0, 0], [0, 0, 0, 0], [0, 0, 0, 0]]"
            ]
          },
          "metadata": {
            "tags": []
          },
          "execution_count": 31
        }
      ]
    }
  ]
}